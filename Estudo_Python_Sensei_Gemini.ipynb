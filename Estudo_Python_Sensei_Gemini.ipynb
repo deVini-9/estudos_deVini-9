{
  "nbformat": 4,
  "nbformat_minor": 0,
  "metadata": {
    "colab": {
      "provenance": []
    },
    "kernelspec": {
      "name": "python3",
      "display_name": "Python 3"
    },
    "language_info": {
      "name": "python"
    }
  },
  "cells": [
    {
      "cell_type": "code",
      "source": [
        "def ranquear_tripulacao(tripulacao):\n",
        "\n",
        "  return sorted(tripulacao, key=lambda pirata: pirata['recompensa'], reverse=True)\n",
        "\n",
        "chapeus_de_palha = [\n",
        "    {'nome': 'Nami', 'recompensa': 366000000},\n",
        "    {'nome': 'Roronoa Zoro', 'recompensa': 1111000000},\n",
        "    {'nome': 'Monkey D. Luffy', 'recompensa': 3000000000},\n",
        "    {'nome': 'Vinsmoke Sanji', 'recompensa': 1032000000},\n",
        "    {'nome': 'Jinbe', 'recompensa': 1100000000}\n",
        "]\n",
        "\n",
        "tripulacao_ranqueada = ranquear_tripulacao(chapeus_de_palha)\n",
        "print(tripulacao_ranqueada)"
      ],
      "metadata": {
        "colab": {
          "base_uri": "https://localhost:8080/"
        },
        "id": "wZDG6rKZQ7tp",
        "outputId": "c8ffaf5e-0bbb-432a-d457-386d31d32a4b"
      },
      "execution_count": 3,
      "outputs": [
        {
          "output_type": "stream",
          "name": "stdout",
          "text": [
            "Monkey D. Luffy: 3,000,000,000\n",
            "Roronoa Zoro: 1,111,000,000\n",
            "Jinbe: 1,100,000,000\n",
            "Vinsmoke Sanji: 1,032,000,000\n",
            "Nami: 366,000,000\n"
          ]
        }
      ]
    },
    {
      "cell_type": "code",
      "source": [],
      "metadata": {
        "id": "DrGgy2k0ULW5"
      },
      "execution_count": null,
      "outputs": []
    }
  ]
}