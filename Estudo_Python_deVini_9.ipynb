{
  "nbformat": 4,
  "nbformat_minor": 0,
  "metadata": {
    "colab": {
      "provenance": [],
      "collapsed_sections": [
        "_lJUi0LeZaGJ",
        "_kwAaQ36gLQ1",
        "XsCisOlQd7Ie",
        "a_0iJT3mqcck",
        "hwdXSll0wgSW",
        "yfaf8Gn6jALR",
        "A7YsVhE6jHxL",
        "L65NhBb1jawr",
        "U8Ur2s1KQlgv",
        "Pp7URtpTQnXn",
        "0YYUbNDFWpvB",
        "GzUoqpFVZGIu",
        "wMelozu-ijag"
      ]
    },
    "kernelspec": {
      "name": "python3",
      "display_name": "Python 3"
    },
    "language_info": {
      "name": "python"
    }
  },
  "cells": [
    {
      "cell_type": "markdown",
      "source": [
        "# **Sensei_Gemini**"
      ],
      "metadata": {
        "id": "_lJUi0LeZaGJ"
      }
    },
    {
      "cell_type": "code",
      "source": [
        "def ranquear_tripulacao(tripulacao):\n",
        "\n",
        "  return sorted(tripulacao, key=lambda pirata: pirata['recompensa'], reverse=True)\n",
        "\n",
        "chapeus_de_palha = [\n",
        "    {'nome': 'Nami', 'recompensa': 366000000},\n",
        "    {'nome': 'Roronoa Zoro', 'recompensa': 1111000000},\n",
        "    {'nome': 'Monkey D. Luffy', 'recompensa': 3000000000},\n",
        "    {'nome': 'Vinsmoke Sanji', 'recompensa': 1032000000},\n",
        "    {'nome': 'Jinbe', 'recompensa': 1100000000}\n",
        "]\n",
        "\n",
        "tripulacao_ranqueada = ranquear_tripulacao(chapeus_de_palha)\n",
        "print(tripulacao_ranqueada)"
      ],
      "metadata": {
        "colab": {
          "base_uri": "https://localhost:8080/"
        },
        "id": "DrGgy2k0ULW5",
        "outputId": "ce599deb-8286-494e-a5c6-59dbc0cb1f41"
      },
      "execution_count": 1,
      "outputs": [
        {
          "output_type": "stream",
          "name": "stdout",
          "text": [
            "[{'nome': 'Monkey D. Luffy', 'recompensa': 3000000000}, {'nome': 'Roronoa Zoro', 'recompensa': 1111000000}, {'nome': 'Jinbe', 'recompensa': 1100000000}, {'nome': 'Vinsmoke Sanji', 'recompensa': 1032000000}, {'nome': 'Nami', 'recompensa': 366000000}]\n"
          ]
        }
      ]
    },
    {
      "cell_type": "code",
      "source": [],
      "metadata": {
        "id": "xQs74WXnESQ8"
      },
      "execution_count": null,
      "outputs": []
    },
    {
      "cell_type": "markdown",
      "source": [
        "# **Hora da Prática**"
      ],
      "metadata": {
        "id": "_kwAaQ36gLQ1"
      }
    },
    {
      "cell_type": "markdown",
      "source": [
        "## Aula 1 - Introdução ao Python"
      ],
      "metadata": {
        "id": "Mc-KN0dA0Z83"
      }
    },
    {
      "cell_type": "markdown",
      "source": [
        "### Questão 1\n",
        "\n",
        "Imprima a frase `Escola de Dados da Alura!`"
      ],
      "metadata": {
        "id": "l5eLWf0W0ikn"
      }
    },
    {
      "cell_type": "code",
      "source": [
        "print('Escola de Dados da Alura!')"
      ],
      "metadata": {
        "id": "5pllxJ0h0-yA",
        "colab": {
          "base_uri": "https://localhost:8080/"
        },
        "outputId": "9c5a5dc6-ca34-4c87-b577-034b3e09893f"
      },
      "execution_count": 2,
      "outputs": [
        {
          "output_type": "stream",
          "name": "stdout",
          "text": [
            "Escola de Dados da Alura!\n"
          ]
        }
      ]
    },
    {
      "cell_type": "markdown",
      "source": [
        "### Questão 2\n",
        "Imprima na tela seu nome e seu sobrenome seguindo a estrutura abaixo:\n",
        "```\n",
        "Nome: [seu nome]\n",
        "Sobrenome: [seu sobrenome]\n",
        "```\n"
      ],
      "metadata": {
        "id": "tQdX90Ue03c7"
      }
    },
    {
      "cell_type": "code",
      "source": [
        "print('Vinícius')\n",
        "print('Vitorino')"
      ],
      "metadata": {
        "id": "RVw5iKn20_Ps",
        "colab": {
          "base_uri": "https://localhost:8080/"
        },
        "outputId": "fe787b16-7228-43e4-9ff4-8533611f20d1"
      },
      "execution_count": 3,
      "outputs": [
        {
          "output_type": "stream",
          "name": "stdout",
          "text": [
            "Vinícius\n",
            "Vitorino\n"
          ]
        }
      ]
    },
    {
      "cell_type": "markdown",
      "source": [
        "### Questão 3\n",
        "Imprima o seu primeiro nome letra a letra. Por exemplo, nome é Mirla, então eu obtenho a seguinte saída:\n",
        "```\n",
        "M\n",
        "I\n",
        "R\n",
        "L\n",
        "A\n",
        "```\n"
      ],
      "metadata": {
        "id": "gfg-aiip03vC"
      }
    },
    {
      "cell_type": "code",
      "source": [],
      "metadata": {
        "id": "v5bkrgf60_qx"
      },
      "execution_count": null,
      "outputs": []
    },
    {
      "cell_type": "markdown",
      "source": [
        "### Questão 4\n",
        "Imprima o dia do seu nascimento em formato `dia mês ano`. Os valores de dia e ano não podem estar entre aspas. O formato deve estar como no exemplo, supondo uma data de aniversário dia 28 de fevereiro de 2003:\n",
        "```\n",
        "28 fevereiro 2003\n",
        "```"
      ],
      "metadata": {
        "id": "oadrJbl704MM"
      }
    },
    {
      "cell_type": "code",
      "source": [],
      "metadata": {
        "id": "cx0KSsrq1ALD"
      },
      "execution_count": null,
      "outputs": []
    },
    {
      "cell_type": "markdown",
      "source": [
        "### Questão 5\n",
        "Imprima em um único print o atual ano que você está fazendo esse curso, o valor do ano deve ser um dado numérico. A saída do print deve ser a seguinte:\n",
        "```\n",
        "Ano atual: [ano]\n",
        "```\n"
      ],
      "metadata": {
        "id": "3RgyMaan04TD"
      }
    },
    {
      "cell_type": "code",
      "execution_count": null,
      "metadata": {
        "id": "UN77EfQ2d36Y"
      },
      "outputs": [],
      "source": []
    },
    {
      "cell_type": "markdown",
      "source": [
        "## Aula 2 - Manipulando dados no Python"
      ],
      "metadata": {
        "id": "D9e3FqhO1S3X"
      }
    },
    {
      "cell_type": "markdown",
      "source": [
        "### Coleta e amostragem de dados"
      ],
      "metadata": {
        "id": "n6o7C1Ze2cRe"
      }
    },
    {
      "cell_type": "markdown",
      "source": [
        "#### Questão 1\n",
        "Crie um programa que solicite à pessoa usuária digitar seu nome, e imprima “Olá, [nome]!”."
      ],
      "metadata": {
        "id": "sRneWag9PV5Q"
      }
    },
    {
      "cell_type": "code",
      "source": [],
      "metadata": {
        "id": "dbX1fKqy2HnE"
      },
      "execution_count": null,
      "outputs": []
    },
    {
      "cell_type": "markdown",
      "source": [
        "#### Questão 2\n",
        "Crie um programa que solicite à pessoa usuária digitar seu nome e idade, e imprima “Olá, [nome], você tem [idade] anos.”."
      ],
      "metadata": {
        "id": "BJ1SznEp70d5"
      }
    },
    {
      "cell_type": "code",
      "source": [],
      "metadata": {
        "id": "jKz-0Sq8PFkp"
      },
      "execution_count": null,
      "outputs": []
    },
    {
      "cell_type": "markdown",
      "source": [
        "#### Questão 3\n",
        "Crie um programa que solicite à pessoa usuária digitar seu nome, idade e altura em metros, e imprima “Olá, [nome], você tem [idade] anos e mede [altura] metros!”."
      ],
      "metadata": {
        "id": "2T0jNYZt70aa"
      }
    },
    {
      "cell_type": "code",
      "source": [],
      "metadata": {
        "id": "pI4kHNzTPIXh"
      },
      "execution_count": null,
      "outputs": []
    },
    {
      "cell_type": "markdown",
      "source": [
        "### Calculadora com operadores"
      ],
      "metadata": {
        "id": "mEBFwKkC70KP"
      }
    },
    {
      "cell_type": "markdown",
      "source": [
        "#### Questão 1\n",
        "\n",
        "Crie um programa que solicite dois valores numéricos à pessoa usuária e imprima a soma dos dois valores."
      ],
      "metadata": {
        "id": "H-IV1oAPPSqK"
      }
    },
    {
      "cell_type": "code",
      "source": [],
      "metadata": {
        "id": "Zb0W84sy8rnp"
      },
      "execution_count": null,
      "outputs": []
    },
    {
      "cell_type": "markdown",
      "source": [
        "#### Questão 2\n",
        "Crie um programa que solicite três valores numéricos à pessoa usuária e imprima a soma dos três valores."
      ],
      "metadata": {
        "id": "LUoi2MOu70Em"
      }
    },
    {
      "cell_type": "code",
      "source": [],
      "metadata": {
        "id": "4FYjWyBS8rDm"
      },
      "execution_count": null,
      "outputs": []
    },
    {
      "cell_type": "markdown",
      "source": [
        "#### Questão 3\n",
        "Crie um programa que solicite dois valores numéricos à pessoa usuária e imprima a subtração do primeiro pelo o segundo valor."
      ],
      "metadata": {
        "id": "lezGctF07z8i"
      }
    },
    {
      "cell_type": "code",
      "source": [],
      "metadata": {
        "id": "k0GE1z4w8p3J"
      },
      "execution_count": null,
      "outputs": []
    },
    {
      "cell_type": "markdown",
      "source": [
        "#### Questão 4\n",
        "\n",
        "Crie um programa que solicite dois valores numéricos à pessoa usuária e imprima a multiplicação dos dois valores.\n"
      ],
      "metadata": {
        "id": "wwMP-dPU7zxW"
      }
    },
    {
      "cell_type": "code",
      "source": [],
      "metadata": {
        "id": "GzFCVHfp8peZ"
      },
      "execution_count": null,
      "outputs": []
    },
    {
      "cell_type": "markdown",
      "source": [
        "#### Questão 5\n",
        "\n",
        "Crie um programa que solicite dois valores numéricos, um numerador e um denominador, e realize a divisão entre os dois valores. Deixe claro que o valor do denominador não pode ser `0`.\n"
      ],
      "metadata": {
        "id": "9kxyHxUo7zRD"
      }
    },
    {
      "cell_type": "code",
      "source": [],
      "metadata": {
        "id": "ytJ8l5KH8ozc"
      },
      "execution_count": null,
      "outputs": []
    },
    {
      "cell_type": "markdown",
      "source": [
        "#### Questão 6\n",
        "\n",
        "Crie um programa que solicite dois valores numéricos, um operador e uma potência, e realize a exponenciação entre esses dois valores.\n"
      ],
      "metadata": {
        "id": "zkUSBTQq8Hxt"
      }
    },
    {
      "cell_type": "code",
      "source": [],
      "metadata": {
        "id": "RPj36jq08oZp"
      },
      "execution_count": null,
      "outputs": []
    },
    {
      "cell_type": "markdown",
      "source": [
        "#### Questão 7\n",
        "Crie um programa que solicite dois valores numéricos, um numerador e um denominador e realize a divisão inteira entre os dois valores. Deixe claro que o valor do denominador não pode ser `0`."
      ],
      "metadata": {
        "id": "yiunIusZ8Huj"
      }
    },
    {
      "cell_type": "code",
      "source": [],
      "metadata": {
        "id": "UHK8xITf8oCg"
      },
      "execution_count": null,
      "outputs": []
    },
    {
      "cell_type": "markdown",
      "source": [
        "#### Questão 8\n",
        "\n",
        "Crie um programa que solicite dois valores numéricos, um numerador e um denominador, e retorne o resto da divisão entre os dois valores. Deixe claro que o valor do denominador não pode ser `0`."
      ],
      "metadata": {
        "id": "z_D_JiLX8Hra"
      }
    },
    {
      "cell_type": "code",
      "source": [],
      "metadata": {
        "id": "EWGJeukO8nqx"
      },
      "execution_count": null,
      "outputs": []
    },
    {
      "cell_type": "markdown",
      "source": [
        "#### Questão 9\n",
        "\n",
        "Crie um código que solicita 3 notas de um estudante e imprima a média das notas."
      ],
      "metadata": {
        "id": "RDRajNkU8N8N"
      }
    },
    {
      "cell_type": "code",
      "source": [],
      "metadata": {
        "id": "H6F4Ojzt8nSR"
      },
      "execution_count": null,
      "outputs": []
    },
    {
      "cell_type": "markdown",
      "source": [
        "#### Questão 10\n",
        "\n",
        "Crie um código que calcule e imprima a média ponderada dos números 5, 12, 20 e 15 com pesos respectivamente iguais a 1, 2, 3 e 4."
      ],
      "metadata": {
        "id": "d7fjkne58N21"
      }
    },
    {
      "cell_type": "code",
      "source": [],
      "metadata": {
        "id": "fwjoHlV48mkv"
      },
      "execution_count": null,
      "outputs": []
    },
    {
      "cell_type": "markdown",
      "source": [
        "### Editando textos"
      ],
      "metadata": {
        "id": "GNmbX1OU8N0V"
      }
    },
    {
      "cell_type": "markdown",
      "source": [
        "#### Questão 1\n",
        "\n",
        "Crie uma variável chamada “`frase`” e atribua a ela uma string de sua escolha. Em seguida, imprima a frase na tela."
      ],
      "metadata": {
        "id": "6wZ85mCsRCV0"
      }
    },
    {
      "cell_type": "code",
      "source": [],
      "metadata": {
        "id": "eRqr_gh-8mFy"
      },
      "execution_count": null,
      "outputs": []
    },
    {
      "cell_type": "markdown",
      "source": [
        "#### Questão 2\n",
        "Crie um código que solicite uma frase e depois imprima a frase na tela."
      ],
      "metadata": {
        "id": "Aac17z-18Nwv"
      }
    },
    {
      "cell_type": "code",
      "source": [],
      "metadata": {
        "id": "8zfE2hh98lb0"
      },
      "execution_count": null,
      "outputs": []
    },
    {
      "cell_type": "markdown",
      "source": [
        "#### Questão 3\n",
        "\n",
        "Crie um código que solicite uma frase à pessoa usuária e imprima a mesma frase digitada mas com todas as letras maiúsculas."
      ],
      "metadata": {
        "id": "DXVzqpN58Ntr"
      }
    },
    {
      "cell_type": "code",
      "source": [],
      "metadata": {
        "id": "d0VzoYP68k-I"
      },
      "execution_count": null,
      "outputs": []
    },
    {
      "cell_type": "markdown",
      "source": [
        "#### Questão 4\n",
        "\n",
        "Crie um código que solicite uma frase à pessoa usuária e imprima a mesma frase digitada mas com todas as letras minúsculas."
      ],
      "metadata": {
        "id": "I12VeNPK8Nqb"
      }
    },
    {
      "cell_type": "code",
      "source": [],
      "metadata": {
        "id": "KD8rNy2K8kox"
      },
      "execution_count": null,
      "outputs": []
    },
    {
      "cell_type": "markdown",
      "source": [
        "#### Questão 5\n",
        "\n",
        "Crie uma variável chamada “`frase`” e atribua a ela uma string de sua escolha. Em seguida, imprima a frase sem espaços em branco no início e no fim."
      ],
      "metadata": {
        "id": "cRqngSE48Nog"
      }
    },
    {
      "cell_type": "code",
      "source": [],
      "metadata": {
        "id": "aSCpdF-o8kBs"
      },
      "execution_count": null,
      "outputs": []
    },
    {
      "cell_type": "markdown",
      "source": [
        "#### Questão 6\n",
        "\n",
        "Crie um código que solicite uma frase à pessoa usuária e imprima a mesma frase sem espaços em branco no início e no fim."
      ],
      "metadata": {
        "id": "murIazpQ8Nkv"
      }
    },
    {
      "cell_type": "code",
      "source": [],
      "metadata": {
        "id": "tHunjwuG8jNq"
      },
      "execution_count": null,
      "outputs": []
    },
    {
      "cell_type": "markdown",
      "source": [
        "#### Questão 7\n",
        "\n",
        "\n",
        "Crie um código que solicite uma frase à pessoa usuária e imprima a mesma frase sem espaços em branco no início e no fim e em letras minúsculas."
      ],
      "metadata": {
        "id": "eRxc2OeX8Nh2"
      }
    },
    {
      "cell_type": "code",
      "source": [],
      "metadata": {
        "id": "DYm0_UwS8ih6"
      },
      "execution_count": null,
      "outputs": []
    },
    {
      "cell_type": "markdown",
      "source": [
        "#### Questão 8\n",
        "\n",
        "Crie um código que solicite uma frase à pessoa usuária e imprima a mesma frase com todas as vogais “`e`” trocadas pela letra “`f`”."
      ],
      "metadata": {
        "id": "UKATLavs8NfI"
      }
    },
    {
      "cell_type": "code",
      "source": [],
      "metadata": {
        "id": "k64C5G5S8iLO"
      },
      "execution_count": null,
      "outputs": []
    },
    {
      "cell_type": "markdown",
      "source": [
        "#### Questão 9\n",
        "\n",
        "\n",
        "Crie um código que solicite uma frase à pessoa usuária e imprima a mesma frase com todas as vogais “`a`” trocadas pela caractere  “`@`”."
      ],
      "metadata": {
        "id": "n_1SPchw8NdG"
      }
    },
    {
      "cell_type": "code",
      "source": [],
      "metadata": {
        "id": "msaDNm_p8h0D"
      },
      "execution_count": null,
      "outputs": []
    },
    {
      "cell_type": "markdown",
      "source": [
        "#### Questão 10\n",
        "\n",
        "\n",
        "Crie um código que solicite uma frase à pessoa usuária e imprima a mesma frase com todas as consoantes “`s`” trocadas pelo caractere  “`$`”."
      ],
      "metadata": {
        "id": "H3sTTjqI8Naa"
      }
    },
    {
      "cell_type": "code",
      "source": [],
      "metadata": {
        "id": "RPBIsWT68e-1"
      },
      "execution_count": null,
      "outputs": []
    },
    {
      "cell_type": "markdown",
      "source": [
        "## Aula 3 - Estruturas condicionais"
      ],
      "metadata": {
        "id": "XGePe4GD2I59"
      }
    },
    {
      "cell_type": "markdown",
      "source": [
        "### Aquecendo na programação"
      ],
      "metadata": {
        "id": "Pr9HTW0UHCdD"
      }
    },
    {
      "cell_type": "markdown",
      "source": [
        "#### Questão 1\n",
        "Escreva um programa que peça à pessoa usuária para fornecer dois números e exibir o número maior."
      ],
      "metadata": {
        "id": "xBZHqhVg80Fy"
      }
    },
    {
      "cell_type": "code",
      "source": [],
      "metadata": {
        "id": "GJlGnzjc-xyF"
      },
      "execution_count": null,
      "outputs": []
    },
    {
      "cell_type": "markdown",
      "source": [
        "#### Questão 2\n",
        "Escreva um programa que solicite o percentual de crescimento de produção de uma empresa e informe se houve um crescimento (porcentagem positiva) ou decrescimento (porcentagem negativa)."
      ],
      "metadata": {
        "id": "H4sgN7dyHNJF"
      }
    },
    {
      "cell_type": "code",
      "source": [],
      "metadata": {
        "id": "-2_Ry5XJ-yZW"
      },
      "execution_count": null,
      "outputs": []
    },
    {
      "cell_type": "markdown",
      "source": [
        "#### Questão 3\n",
        "Escreva um programa que determine se uma letra fornecida pela pessoa usuária é uma vogal ou consoante."
      ],
      "metadata": {
        "id": "a_mzNOBDHNny"
      }
    },
    {
      "cell_type": "code",
      "source": [],
      "metadata": {
        "id": "NbgndVyg-zFJ"
      },
      "execution_count": null,
      "outputs": []
    },
    {
      "cell_type": "markdown",
      "source": [
        "#### Questão 4\n",
        "Escreva um programa que leia valores médios de preços de um modelo de carro por 3 anos consecutivos e exiba o valor mais alto e mais baixo entre esses três anos."
      ],
      "metadata": {
        "id": "mofMRjSZHP99"
      }
    },
    {
      "cell_type": "code",
      "source": [],
      "metadata": {
        "id": "TX--d3k9-02c"
      },
      "execution_count": null,
      "outputs": []
    },
    {
      "cell_type": "markdown",
      "source": [
        "#### Questão 5\n",
        "Escreva um programa que pergunte sobre o preço de três produtos e indique qual é o produto mais barato para comprar."
      ],
      "metadata": {
        "id": "jY5tIwd-HQzc"
      }
    },
    {
      "cell_type": "code",
      "source": [],
      "metadata": {
        "id": "sYqNh9df-0gk"
      },
      "execution_count": null,
      "outputs": []
    },
    {
      "cell_type": "markdown",
      "source": [
        "#### Questão 6\n",
        "Escreva um programa que leia três números e os exiba em ordem decrescente."
      ],
      "metadata": {
        "id": "1r6aVxtTHR4E"
      }
    },
    {
      "cell_type": "code",
      "source": [],
      "metadata": {
        "id": "ydOCYUMO-0Hk"
      },
      "execution_count": null,
      "outputs": []
    },
    {
      "cell_type": "markdown",
      "source": [
        "#### Questão 7\n",
        "Escreva um programa que pergunte em qual turno a pessoa usuária estuda (\"manhã\", \"tarde\" ou \"noite\") e exiba a mensagem \"Bom Dia!\", \"Boa Tarde!\", \"Boa Noite!\", ou \"Valor Inválido!\", conforme o caso."
      ],
      "metadata": {
        "id": "inW3F-hAHS_X"
      }
    },
    {
      "cell_type": "code",
      "source": [],
      "metadata": {
        "id": "-_q-Pcr_-zth"
      },
      "execution_count": null,
      "outputs": []
    },
    {
      "cell_type": "markdown",
      "source": [
        "#### Questão 8\n",
        "Escreva um programa que peça um número inteiro à pessoa usuária e determine se ele é par ou ímpar. Dica: Você pode utilizar o operador módulo `%`."
      ],
      "metadata": {
        "id": "NCCPF3QqHTw-"
      }
    },
    {
      "cell_type": "code",
      "source": [],
      "metadata": {
        "id": "OmZJt1nQ-3e6"
      },
      "execution_count": null,
      "outputs": []
    },
    {
      "cell_type": "markdown",
      "source": [
        "#### Questão 9\n",
        "Escreva um programa que peça um número à pessoa usuária e informe se ele é inteiro ou decimal."
      ],
      "metadata": {
        "id": "h93Ck1tQHUwE"
      }
    },
    {
      "cell_type": "code",
      "source": [],
      "metadata": {
        "id": "sLMlZcx8-20N"
      },
      "execution_count": null,
      "outputs": []
    },
    {
      "cell_type": "markdown",
      "source": [
        "### Momento dos projetos"
      ],
      "metadata": {
        "id": "bKdXSK1SH_pF"
      }
    },
    {
      "cell_type": "markdown",
      "source": [
        "#### Questão 10\n",
        "Um programa deve ser escrito para ler dois números e, em seguida, perguntar à pessoa usuária qual operação ele deseja realizar. O resultado da operação deve incluir informações sobre o número - se é par ou ímpar, positivo ou negativo e inteiro ou decimal."
      ],
      "metadata": {
        "id": "WBlEyyzsHV86"
      }
    },
    {
      "cell_type": "code",
      "source": [],
      "metadata": {
        "id": "3jmahZ0f-2gq"
      },
      "execution_count": null,
      "outputs": []
    },
    {
      "cell_type": "markdown",
      "source": [
        "#### Questão 11\n",
        "Escreva um programa que peça à pessoa usuária três números que representam os lados de um triângulo. O programa deve informar se os valores podem ser utilizados para formar um triângulo e, caso afirmativo, se ele é equilátero, isósceles ou escaleno. Tenha em mente algumas dicas:\n",
        "- Três lados formam um triângulo quando a soma de quaisquer dois lados for maior que o terceiro;\n",
        "- Triângulo Equilátero: três lados iguais;\n",
        "- Triângulo Isósceles: quaisquer dois lados iguais;\n",
        "- Triângulo Escaleno: três lados diferentes;\n"
      ],
      "metadata": {
        "id": "VdnlULxHHW19"
      }
    },
    {
      "cell_type": "code",
      "source": [],
      "metadata": {
        "id": "0z73sqUO-2Pw"
      },
      "execution_count": null,
      "outputs": []
    },
    {
      "cell_type": "markdown",
      "source": [
        "#### Questão 12\n",
        "Um estabelecimento está vendendo combustíveis com descontos variados. Para o etanol, se a quantidade comprada for até 15 litros, o desconto será de 2% por litro. Caso contrário, será de 4% por litro. Para o diesel, se a quantidade comprada for até 15 litros, o desconto será de 3% por litro. Caso contrário, será de 5% por litro. O preço do litro de diesel é R\\$ 2,00 e o preço do litro de etanol é R\\$ 1,70. Escreva um programa que leia a quantidade de litros vendidos e o tipo de combustível (E para etanol e D para diesel) e calcule o valor a ser pago pelo cliente. Tenha em mente algumas dicas:\n",
        "\n",
        "- O do valor do desconto será a multiplicação entre preço do litro, quantidade de litros e o valor do desconto.\n",
        "- O valor a ser pago por um cliente será o resultado da multiplicação do preço do litro pela quantidade de litros menos o valor de desconto resultante do cálculo.\n"
      ],
      "metadata": {
        "id": "_PpEpOugHXwZ"
      }
    },
    {
      "cell_type": "code",
      "source": [],
      "metadata": {
        "id": "9izoF-0O-1yD"
      },
      "execution_count": null,
      "outputs": []
    },
    {
      "cell_type": "markdown",
      "source": [
        "#### Questão 13\n",
        "Em uma empresa de venda de imóveis você precisa criar um código que analise os dados de vendas anuais para ajudar a diretoria na tomada de decisão. O código precisa coletar os dados de quantidade de venda durante os anos de 2022 e 2023 e fazer um cálculo de variação percentual. A partir do valor da variação, deve ser enviada às seguintes sugestões:\n",
        "- Para variação acima de 20%: bonificação para o time de vendas.\n",
        "- Para variação entre 2% e 20%: pequena bonificação para time de vendas.\n",
        "- Para variação entre 2% e -10%: planejamento de políticas de incentivo às vendas.\n",
        "- Para bonificações abaixo de -10%: corte de gastos.\n"
      ],
      "metadata": {
        "id": "s_XS_D1WHY2R"
      }
    },
    {
      "cell_type": "code",
      "source": [],
      "metadata": {
        "id": "avQrYlUg-w8f"
      },
      "execution_count": null,
      "outputs": []
    },
    {
      "cell_type": "markdown",
      "source": [
        "## Aula 4 - Estruturas de repetição"
      ],
      "metadata": {
        "id": "AuaWh4-d2Itt"
      }
    },
    {
      "cell_type": "markdown",
      "source": [
        "### Aquecendo na programação"
      ],
      "metadata": {
        "id": "6MSqU0sIJRdD"
      }
    },
    {
      "cell_type": "markdown",
      "source": [
        "#### Questão 1\n",
        "Escreva um programa que peça dois números inteiros e imprima todos os números inteiros entre eles."
      ],
      "metadata": {
        "id": "9eGGyCnAJRdQ"
      }
    },
    {
      "cell_type": "code",
      "source": [],
      "metadata": {
        "id": "ID1oc1hxJRdQ"
      },
      "execution_count": null,
      "outputs": []
    },
    {
      "cell_type": "markdown",
      "source": [
        "#### Questão 2\n",
        "Escreva um programa para calcular quantos dias levará para a colônia de uma bactéria A ultrapassar ou igualar a colônia de uma bactéria B, com base nas taxas de crescimento de 3% e 1,5% respectivamente. Considere que a colônia A inicia com 4 elementos e a colônia B com 10 elementos."
      ],
      "metadata": {
        "id": "mGonEHYCJRdR"
      }
    },
    {
      "cell_type": "code",
      "source": [],
      "metadata": {
        "id": "wM6FJuoqJRdR"
      },
      "execution_count": null,
      "outputs": []
    },
    {
      "cell_type": "markdown",
      "source": [
        "#### Questão 3\n",
        "Para tratar uma quantidade de 15 dados de avaliações de pessoas usuárias de um serviço da empresa, precisamos verificar se as notas são válidas. Então, escreva um programa que vai receber a nota de 0 a 5 de todos os dados e verificar se é um valor válido. Caso seja inserido uma nota acima de 5 ou abaixo de 0, repita até que a pessoa usuária insira um valor válido."
      ],
      "metadata": {
        "id": "UiOZRlqoJRdR"
      }
    },
    {
      "cell_type": "code",
      "source": [],
      "metadata": {
        "id": "3TUAhCxcJRdR"
      },
      "execution_count": null,
      "outputs": []
    },
    {
      "cell_type": "markdown",
      "source": [
        "#### Questão 4\n",
        "Desenvolva um programa que leia um conjunto indeterminado de temperaturas em Celsius e faça uma análise. Portanto, escreva um programa que leia temperaturas e informe a média delas. A leitura deve ser encerrada ao ser enviado o valor -273°C."
      ],
      "metadata": {
        "id": "ABv3KObGJRdR"
      }
    },
    {
      "cell_type": "code",
      "source": [],
      "metadata": {
        "id": "85tBBj5KJRdS"
      },
      "execution_count": null,
      "outputs": []
    },
    {
      "cell_type": "markdown",
      "source": [
        "#### Questão 5\n",
        "Escreva um programa que calcule o fatorial de um número inteiro fornecido pela pessoa usuária. O fatorial de um número inteiro é a multiplicação desse número por todos os seus antecessores até o número 1. Por exemplo, o fatorial de 5 é 5 x 4 x 3 x 2 x 1 = 120."
      ],
      "metadata": {
        "id": "IjkbAfGcJRdS"
      }
    },
    {
      "cell_type": "code",
      "source": [],
      "metadata": {
        "id": "7RTH8o0HJRdS"
      },
      "execution_count": null,
      "outputs": []
    },
    {
      "cell_type": "markdown",
      "source": [
        "### Momento dos projetos"
      ],
      "metadata": {
        "id": "oGNKuQjsJRdT"
      }
    },
    {
      "cell_type": "markdown",
      "source": [
        "#### Questão 6\n",
        "Escreva um programa que gere a tabuada de um número inteiro de 1 a 10, de acordo com a escolha da pessoa usuária. Como exemplo, para o número 2, a tabuada deve ser mostrada no seguinte formato:\n",
        "```\n",
        "Tabuada do 2:\n",
        "2 x 1 = 2\n",
        "2 x 2 = 4\n",
        "[...]\n",
        "2 x 10 = 20\n",
        "```"
      ],
      "metadata": {
        "id": "ODxaTUYmJRdS"
      }
    },
    {
      "cell_type": "code",
      "source": [],
      "metadata": {
        "id": "lkTlbxPIJRdS"
      },
      "execution_count": null,
      "outputs": []
    },
    {
      "cell_type": "markdown",
      "source": [
        "#### Questão 7\n",
        "Os números primos possuem várias aplicações dentro da Ciência de Dados, por exemplo, na criptografia e segurança. Um número primo é aquele que é divisível apenas por um e por ele mesmo. Faça um programa que peça um número inteiro e determine se ele é ou não um número primo."
      ],
      "metadata": {
        "id": "LeIbnt8VJRdS"
      }
    },
    {
      "cell_type": "code",
      "source": [],
      "metadata": {
        "id": "2rcNU7twJRdS"
      },
      "execution_count": null,
      "outputs": []
    },
    {
      "cell_type": "markdown",
      "source": [
        "#### Questão 8\n",
        "Vamos entender a distribuição de idades de pensionistas de uma empresa de previdência. Escreva um programa que leia as idades de uma quantidade não informada de clientes e mostre a distribuição em intervalos de [0-25], [26-50], [51-75] e [76-100]. Encerre a entrada de dados com um número negativo."
      ],
      "metadata": {
        "id": "QTwb6QaCJRdT"
      }
    },
    {
      "cell_type": "code",
      "source": [],
      "metadata": {
        "id": "4IAhaDmYJRdT"
      },
      "execution_count": null,
      "outputs": []
    },
    {
      "cell_type": "markdown",
      "source": [
        "#### Questão 9\n",
        "Em uma eleição para gerência em uma empresa com 20 funcionários, existem quatro candidatos. Escreva um programa que calcule o vencedor da eleição. A votação ocorreu da seguinte maneira:\n",
        "- Cada funcionário votou em um dos quatro candidatos (representados pelos números 1, 2, 3 e 4).\n",
        "- Também foram contabilizados os votos nulos (representado pelo número 5) e os votos em branco (representado pelo número 6).\n",
        "\n",
        "Ao final da votação, o programa deve exibir o total de votos para cada candidato, o número de votos nulos e o número de votos em branco. Além disso, deve calcular e exibir a porcentagem de votos nulos em relação ao total de votos e a porcentagem de votos em branco em relação ao total de votos."
      ],
      "metadata": {
        "id": "soJCQVwRJRdT"
      }
    },
    {
      "cell_type": "code",
      "source": [],
      "metadata": {
        "id": "041EFrgG-4gR"
      },
      "execution_count": null,
      "outputs": []
    },
    {
      "cell_type": "markdown",
      "source": [
        "## Aula 5 - Estruturas de dados"
      ],
      "metadata": {
        "id": "eijHQiNU2IZ7"
      }
    },
    {
      "cell_type": "markdown",
      "source": [
        "### Aquecendo na programação"
      ],
      "metadata": {
        "id": "92F0bKtBMgd7"
      }
    },
    {
      "cell_type": "markdown",
      "source": [
        "#### Questão 1\n",
        "Faça um programa que tenha a seguinte lista contendo os valores de gastos de uma empresa de papel `[2172.54, 3701.35, 3518.09, 3456.61, 3249.38, 2840.82, 3891.45, 3075.26, 2317.64, 3219.08]`. Com esses valores, faça um programa que calcule a média de gastos. Dica, use as funções built-in [`sum()`](https://docs.python.org/3/library/functions.html#sum) e [`len()`](https://docs.python.org/3/library/functions.html#len)."
      ],
      "metadata": {
        "id": "IypX2ANuMgeC"
      }
    },
    {
      "cell_type": "code",
      "source": [],
      "metadata": {
        "id": "ge3LuFhLMgeD"
      },
      "execution_count": null,
      "outputs": []
    },
    {
      "cell_type": "markdown",
      "source": [
        "#### Questão 2\n",
        " Com os mesmos dados da questão anterior, defina quantas compras foram acima de 3000 reais e calcule a porcentagem quanto ao total de compras."
      ],
      "metadata": {
        "id": "xrOeLhQkMgeD"
      }
    },
    {
      "cell_type": "code",
      "source": [],
      "metadata": {
        "id": "Ygu5TMZyMgeD"
      },
      "execution_count": null,
      "outputs": []
    },
    {
      "cell_type": "markdown",
      "source": [
        "#### Questão 3\n",
        "Faça um código que colete em uma lista 5 números inteiros quaisquer e imprima a lista. Exemplo: `[1,4,7,2,4]`."
      ],
      "metadata": {
        "id": "JgCOrE_BMgeD"
      }
    },
    {
      "cell_type": "code",
      "source": [],
      "metadata": {
        "id": "vtM9O1hLMgeD"
      },
      "execution_count": null,
      "outputs": []
    },
    {
      "cell_type": "markdown",
      "source": [
        "#### Questão 4\n",
        "Colete novamente 5 inteiros e imprima a lista em ordem inversa à enviada."
      ],
      "metadata": {
        "id": "p3bTp88HMgeD"
      }
    },
    {
      "cell_type": "code",
      "source": [],
      "metadata": {
        "id": "-CGwMIyHMgeD"
      },
      "execution_count": null,
      "outputs": []
    },
    {
      "cell_type": "markdown",
      "source": [
        "#### Questão 5\n",
        "Faça um programa que, ao inserir um número qualquer, criará uma lista contendo todos os números primos entre 1 e o número digitado."
      ],
      "metadata": {
        "id": "eIXd_z1lMgeD"
      }
    },
    {
      "cell_type": "code",
      "source": [],
      "metadata": {
        "id": "rj_6GHstMgeE"
      },
      "execution_count": null,
      "outputs": []
    },
    {
      "cell_type": "markdown",
      "source": [
        "#### Questão 6\n",
        "Escreva um programa que peça uma data informando o dia, mês e ano e determine se ela é uma data válida para uma análise."
      ],
      "metadata": {
        "id": "zrbz3ENlMgeE"
      }
    },
    {
      "cell_type": "code",
      "source": [],
      "metadata": {
        "id": "0eYA8UjTMgeE"
      },
      "execution_count": null,
      "outputs": []
    },
    {
      "cell_type": "markdown",
      "source": [
        "### Momento dos projetos"
      ],
      "metadata": {
        "id": "ut_4VHdGMgeE"
      }
    },
    {
      "cell_type": "markdown",
      "source": [
        "#### Questão 7\n",
        "Para um estudo envolvendo o nível de multiplicação de bactérias em uma colônia, foi coletado o número de bactérias multiplicadas por dia, com base em um processo de duplicação diária e pode ser observado a seguir: `[1.2, 2.1, 3.3, 5.0, 7.8, 11.3, 16.6, 25.1, 37.8, 56.9]`. Tendo esses valores, faça um código que gere uma lista contendo o percentual de crescimento de bactérias por dia, comparando o número de bactérias em cada dia com o número de bactérias do dia anterior. Dica: para calcular o percentual de crescimento usamos a seguinte equação: `100 * (amostra_atual - amostra_passada) / (amostra_passada)`."
      ],
      "metadata": {
        "id": "G86Z0vD_MgeE"
      }
    },
    {
      "cell_type": "code",
      "source": [],
      "metadata": {
        "id": "PXNO_CFkMgeE"
      },
      "execution_count": null,
      "outputs": []
    },
    {
      "cell_type": "markdown",
      "source": [
        "#### Questão 8\n",
        "Para uma seleção de produtos alimentícios, precisamos separar o conjunto de IDs dados por números inteiros, sabendo que os produtos com ID par são doces e os com ID ímpar são amargos. Monte um código que colete 10 IDs. Depois, calcule e mostre a quantidade de produtos doces e amargos."
      ],
      "metadata": {
        "id": "p4nxogpnMgeE"
      }
    },
    {
      "cell_type": "code",
      "source": [],
      "metadata": {
        "id": "WqjO2SZkMgeE"
      },
      "execution_count": null,
      "outputs": []
    },
    {
      "cell_type": "markdown",
      "source": [
        "#### Questão 9\n",
        "Desenvolva um programa que informa a nota de um aluno de acordo com suas respostas. Ele deve pedir a resposta de um aluno para cada questão e é preciso verificar se a resposta foi igual ao gabarito. Cada questão vale um ponto e existem alternativas:  A, B, C ou D.\n",
        "```\n",
        "Gabarito da Prova:\n",
        "01 - D\n",
        "02 - A\n",
        "03 - C\n",
        "04 - B\n",
        "05 - A\n",
        "06 - D\n",
        "07 - C\n",
        "08 - C\n",
        "09 - A\n",
        "10 - B\n",
        "```"
      ],
      "metadata": {
        "id": "t5OrLxV6MgeE"
      }
    },
    {
      "cell_type": "code",
      "source": [],
      "metadata": {
        "id": "ytIQDJrQMgeE"
      },
      "execution_count": null,
      "outputs": []
    },
    {
      "cell_type": "markdown",
      "source": [
        "#### Questão 10\n",
        "Um instituto de meteorologia deseja fazer um estudo de temperatura média de cada mês do ano. Para isso, você precisa fazer um código que colete e armazene essas temperaturas médias em uma lista. Depois, calcule a média anual das temperaturas e mostre todas as temperaturas acima da média anual, e em que mês elas ocorreram, mostrando os meses por extenso: Janeiro, Fevereiro, etc."
      ],
      "metadata": {
        "id": "aSBMzh-AMgeF"
      }
    },
    {
      "cell_type": "code",
      "source": [],
      "metadata": {
        "id": "ftj04s2uMgeF"
      },
      "execution_count": null,
      "outputs": []
    },
    {
      "cell_type": "markdown",
      "source": [
        "#### Questão 11\n",
        "Uma empresa de e-commerce está interessada em analisar as vendas dos seus produtos. Os dados das vendas foram armazenados em um dicionário:\n",
        "```\n",
        "{'Produto A': 300, 'Produto B': 80, 'Produto C': 60,\n",
        " 'Produto D': 200, 'Produto E': 250, 'Produto F': 30}\n",
        "```\n",
        "Escreva um código que calcule o total de vendas e o produto mais vendido."
      ],
      "metadata": {
        "id": "0X8S6s4jMgeF"
      }
    },
    {
      "cell_type": "code",
      "source": [],
      "metadata": {
        "id": "Xa3DJLtFMgeF"
      },
      "execution_count": null,
      "outputs": []
    },
    {
      "cell_type": "markdown",
      "source": [
        "#### Questão 12\n",
        "Uma pesquisa de mercado foi feita para decidir qual design de uma marca infantil mais agrada crianças. A pesquisa foi feita e o votos computados podem ser observados abaixo:\n",
        "```\n",
        "'''\n",
        "Tabela de votos da marca\n",
        "Design 1 - 1334 votos\n",
        "Design 2 - 982 votos\n",
        "Design 3 - 1751 votos\n",
        "Design 4 - 210 votos\n",
        "Design 5 - 1811 votos\n",
        "'''\n",
        "```\n",
        "Adapte os dados fornecidos a você para uma estrutura de dicionário e a partir dele, informe o design vencedor e a porcentagem de votos recebidos.\n"
      ],
      "metadata": {
        "id": "nrEwf_1ZMgeF"
      }
    },
    {
      "cell_type": "code",
      "source": [],
      "metadata": {
        "id": "MRPcGR-_MgeF"
      },
      "execution_count": null,
      "outputs": []
    },
    {
      "cell_type": "markdown",
      "source": [
        "#### Questão 13\n",
        "Os funcionários de um setor da empresa que você trabalha vão receber um abono correspondente a 10% do seu salário devido ao ótimo desempenho do time. O setor financeiro solicitou sua ajuda para a verificação das consequências financeiras que esse abono irá gerar nos recursos. Assim, foi encaminhada para você uma lista com os salários que receberão o abono: `[1172, 1644, 2617, 5130, 5532, 6341, 6650, 7238, 7685, 7782, 7903]`. O abono de cada funcionário não pode ser inferior a 200. Em código, transforme cada um dos salários em chaves de um dicionário e o abono de cada salário no elemento. Depois, informe o total de gastos com o abono, quantos funcionários receberam o abono mínimo e qual o maior valor de abono fornecido.\n"
      ],
      "metadata": {
        "id": "HRTFFzKIMgeF"
      }
    },
    {
      "cell_type": "code",
      "source": [],
      "metadata": {
        "id": "QsDSCua42bLB"
      },
      "execution_count": null,
      "outputs": []
    },
    {
      "cell_type": "markdown",
      "source": [
        "#### Questão 14\n",
        "Uma equipe de cientistas de dados está estudando a diversidade biológica em uma floresta. A equipe fez a coleta de informações sobre o número de espécies de plantas e animais em cada área da floresta e armazenaram essas informações em um dicionário. Nele, a chave descreve a área dos dados e os valores nas listas correspondem às espécies de plantas e animais nas áreas, respectivamente.\n",
        "```\n",
        "{'Área Norte': [2819, 7236],\n",
        " 'Área Leste': [1440, 9492],\n",
        " 'Área Sul': [5969, 7496],\n",
        " 'Área Oeste': [14446, 49688],\n",
        " 'Área Centro': [22558, 45148]}\n",
        "```\n",
        "Escreva um código para calcular a média de espécies por área e identificar a área com a maior diversidade biológica. Dica: use as funções built-in [`sum()`](https://docs.python.org/3/library/functions.html#sum) e [`len()`](https://docs.python.org/3/library/functions.html#len).\n"
      ],
      "metadata": {
        "id": "6dEXZEwjMlWy"
      }
    },
    {
      "cell_type": "code",
      "source": [],
      "metadata": {
        "id": "eQnOUDfYMlWy"
      },
      "execution_count": null,
      "outputs": []
    },
    {
      "cell_type": "markdown",
      "source": [
        "#### Questão 15\n",
        "O setor de RH da sua empresa te pediu uma ajuda para analisar as idades dos funcionários de 4 setores da empresa. Para isso, ele te forneceu os seguintes dados:\n",
        "```\n",
        "{'Setor A': [22, 26, 30, 30, 35, 38, 40, 56, 57, 65],\n",
        " 'Setor B': [22, 24, 26, 33, 41, 49, 50, 54, 60, 64],\n",
        " 'Setor C': [23, 26, 26, 29, 34, 35, 36, 41, 52, 56],\n",
        " 'Setor D': [19, 20, 25, 27, 34, 39, 42, 44, 50, 65]}\n",
        "```\n",
        "Sabendo que cada setor tem 10 funcionários, construa um código que calcule a média de idade de cada setor, a idade média geral entre todos os setores e quantas pessoas estão acima da idade média geral.\n"
      ],
      "metadata": {
        "id": "r0RW2Sy_MlWy"
      }
    },
    {
      "cell_type": "code",
      "source": [],
      "metadata": {
        "id": "wCiwyKP3MmTz"
      },
      "execution_count": null,
      "outputs": []
    },
    {
      "cell_type": "markdown",
      "source": [
        "# **FIAP**"
      ],
      "metadata": {
        "id": "XsCisOlQd7Ie"
      }
    },
    {
      "cell_type": "code",
      "source": [
        "from google.colab import drive\n",
        "drive.mount('/content/gdrive')"
      ],
      "metadata": {
        "id": "dHshwdRZaoOn"
      },
      "execution_count": null,
      "outputs": []
    },
    {
      "cell_type": "code",
      "source": [
        "from google.colab import drive\n",
        "drive.mount('/content/drive')"
      ],
      "metadata": {
        "id": "_uTjklqgaDPV"
      },
      "execution_count": null,
      "outputs": []
    },
    {
      "cell_type": "code",
      "source": [
        "import sys\n",
        "\n",
        "# O caminho para a sua biblioteca no Google Drive\n",
        "caminho_biblioteca = '/content/gdrive/MyDrive/Colab Notebooks/Bibliotecas'\n",
        "\n",
        "# Use sys.path.insert() para adicionar o caminho na primeira posição (índice 0)\n",
        "sys.path.insert(0, caminho_biblioteca)"
      ],
      "metadata": {
        "id": "7U7Mxke5bAw4"
      },
      "execution_count": null,
      "outputs": []
    },
    {
      "cell_type": "code",
      "source": [
        "!pip install fpdf2"
      ],
      "metadata": {
        "id": "xw0PlC94dcH2"
      },
      "execution_count": null,
      "outputs": []
    },
    {
      "cell_type": "code",
      "execution_count": null,
      "metadata": {
        "id": "CdQ47ddzSnOo"
      },
      "outputs": [],
      "source": [
        "\n",
        "# - Fase 1\n",
        "\n",
        "rate_sac = int(input('Digite a nota de satisfação com o atendimento(0 - 100): '))\n",
        "\n",
        "if not 0 <= rate_sac <= 100:\n",
        "     print('\\nVocê digitou um número fora da faixa de avaliação(0 - 100)!')\n",
        "elif rate_sac >= 90:\n",
        "    print('\\nAtendimento de Qualidade!')\n",
        "elif rate_sac >= 70:\n",
        "    print('\\nAtendimento Neutro!')\n",
        "else:\n",
        "    print('\\nAtendimento Insatisfatório!')\n"
      ]
    },
    {
      "cell_type": "code",
      "source": [
        "from typing import List\n",
        "import os\n",
        "import json\n",
        "\n",
        "\n",
        "ICMS_PERCENTUAL: float = 0.18\n",
        "MIN_PRODUTOS_SALVAR: int = 5\n",
        "NOME_ARQUIVO_JSON: str = \"1_5_arquivo_produto.json\"\n",
        "\n",
        "calcular_icms = lambda valor_produto: round(valor_produto * ICMS_PERCENTUAL, 2)\n",
        "\n",
        "def solicitar_input(\n",
        "    mensagem: str,\n",
        "    tipo=str,\n",
        "    erro=\"Entrada Inválida\",\n",
        "    validar=None\n",
        ") -> float:\n",
        "    \"\"\"\n",
        "    Solicita e valida a entrada do usuário.\n",
        "\n",
        "    Args:\n",
        "        mensagem (str): Mensagem para exibir ao usuário.\n",
        "        tipo: Tipo do dado esperado.\n",
        "        erro (str): Mensagem de erro se a entrada for inválida.\n",
        "        validar: Função de validção se necessário.\n",
        "\n",
        "    Returns:\n",
        "        Valor: O valor validado e tratado\n",
        "    \"\"\"\n",
        "    while True:\n",
        "        try:\n",
        "            valor = input(mensagem).strip()\n",
        "\n",
        "            if not valor and tipo is str:\n",
        "                print(\"Erro: A entrada não pode estar vazia.\")\n",
        "                continue\n",
        "\n",
        "            valor = tipo(valor.replace(\",\", \".\")) if tipo is float else valor\n",
        "\n",
        "            if validar and not validar(valor):\n",
        "                continue\n",
        "            return valor\n",
        "        except ValueError:\n",
        "            print(erro)\n",
        "\n",
        "\n",
        "def validar_numero(valor_produto):\n",
        "    \"\"\"\n",
        "    Valida se o valor do produto é positivo.\n",
        "\n",
        "    Returns:\n",
        "        bool: True se o valor for positivo, False caso for negativo\n",
        "    \"\"\"\n",
        "    if valor_produto < 0:\n",
        "        print(\"Erro: O valor não pode ser menor que 0.\")\n",
        "        return False\n",
        "    return True\n",
        "\n",
        "\n",
        "def perguntar_se_continua(mensagem: str = \"Deseja continuar ? (Sim/Não) \") -> bool:\n",
        "    \"\"\"\n",
        "    Pergunta ao usuário se deseja continuar a operação.\n",
        "\n",
        "    Args:\n",
        "        mensagem: Mensagem a ser exibida para o usuário.\n",
        "\n",
        "    Returns:\n",
        "        bool: True se a resposta for sim, False caso for não.\n",
        "    \"\"\"\n",
        "    while True:\n",
        "        resposta = input(mensagem).strip().lower()\n",
        "\n",
        "        if resposta in [\"sim\", \"s\"]:\n",
        "            return True\n",
        "        elif resposta in [\"não\", \"nao\", \"n\"]:\n",
        "            return False\n",
        "\n",
        "        print(\"Resposta Inválida! Digite 'Sim' ou 'Não'.\")\n",
        "\n",
        "\n",
        "def cadastrar_produto():\n",
        "    \"\"\"\n",
        "    Cadastra um novo produto.\n",
        "\n",
        "    Returns:\n",
        "        produto: Um dicionário com as entradas do usuário.\n",
        "    \"\"\"\n",
        "    os.system(\"cls\")\n",
        "\n",
        "    print(\"--- Cadastro de Produtos ---\\n\\n\")\n",
        "\n",
        "    descricao_produto = solicitar_input(\"Descrição do Produto: \")\n",
        "    valor_produto = solicitar_input(\"Valor do Produto: R$ \", float, \"Valor inválido\", validar_numero)\n",
        "    tipo_embalagem = solicitar_input(\"Tipo da Embalagem do Produto: \")\n",
        "\n",
        "    produto = {\n",
        "        \"descricao_produto\": descricao_produto,\n",
        "        \"valor_produto\": valor_produto,\n",
        "        \"tipo_embalagem\": tipo_embalagem,\n",
        "        \"icms_produto\": calcular_icms(valor_produto)\n",
        "    }\n",
        "\n",
        "    os.system(\"cls\")\n",
        "\n",
        "    return produto\n",
        "\n",
        "def salvar_json(produtos):\n",
        "    \"\"\"\n",
        "    Salva a os produtos cadastrados em um arquivo JSON.\n",
        "\n",
        "    Args:\n",
        "        produtos: Lista de produtos a serem salvos.\n",
        "    \"\"\"\n",
        "    try:\n",
        "        with open(NOME_ARQUIVO_JSON, \"w\", encoding=\"utf-8\") as f:\n",
        "            json.dump(produtos, f, ensure_ascii=False, indent=4)\n",
        "        print(\"Arquivo gerado com sucesso!\")\n",
        "    except (IOError, Exception) as e:\n",
        "        print(\"Erro ao salvar arquivo: {e}\")\n",
        "\n",
        "def verificar_quantidade_produtos(produtos):\n",
        "    \"\"\"\n",
        "    Verifica se o número de produtos cadastros atende a quantidade mínima.\n",
        "\n",
        "    Args:\n",
        "        produtos: Lista de produtos cadastrados.\n",
        "\n",
        "    Returns:\n",
        "        bool: True se o número de produtos atender a quantidade mínima, False caso não atender.\n",
        "    \"\"\"\n",
        "    if len(produtos) < MIN_PRODUTOS_SALVAR:\n",
        "        print(f\"Você cadastrou apenas {len(produtos)} produto(s). É necessário ter no mínimo {MIN_PRODUTOS_SALVAR} produtos cadastrados.\")\n",
        "        return False\n",
        "    return True\n",
        "\n",
        "\n",
        "def cadastro_produto():\n",
        "    \"\"\"\n",
        "    Gerencia o cadastro dos produtos\n",
        "\n",
        "    Returns:\n",
        "        produtos: Lista de produtos cadastrados.\n",
        "    \"\"\"\n",
        "    produtos: List[dict] = []\n",
        "\n",
        "    while True:\n",
        "        produto = cadastrar_produto()\n",
        "        produtos.append(produto)\n",
        "\n",
        "        print(\"\\nProduto cadastrado com sucesso!\")\n",
        "\n",
        "        if not perguntar_se_continua(\"\\n\\nDeseja cadastrar outro produto ? (Sim/Não) \"):\n",
        "            break\n",
        "\n",
        "    return produtos\n",
        "\n",
        "\n",
        "def main():\n",
        "    os.system(\"cls\")\n",
        "    produtos = cadastro_produto()\n",
        "\n",
        "    if not verificar_quantidade_produtos(produtos):\n",
        "        while len(produtos) < MIN_PRODUTOS_SALVAR:\n",
        "            if not perguntar_se_continua(\"Deseja cadastrar mais produtos (Sim/Não)? \"):\n",
        "                print(\"\\nPrograma encerrado! Nenhum arquivo será gerado.\")\n",
        "                return\n",
        "\n",
        "            produto = cadastrar_produto()\n",
        "            produtos.append(produto)\n",
        "\n",
        "    os.system(\"cls\")\n",
        "    print(\"--- Salvando arquivo ---\")\n",
        "    salvar_json(produtos)\n",
        "\n",
        "if __name__ == \"__main__\":\n",
        "    try:\n",
        "        main()\n",
        "    except KeyboardInterrupt:\n",
        "        print(\"\\nCadastro interrompido!\")"
      ],
      "metadata": {
        "id": "SsstX_R5xFcW"
      },
      "execution_count": null,
      "outputs": []
    },
    {
      "cell_type": "code",
      "source": [
        "# PASSO 1: Instala a biblioteca fpdf2 no ambiente do Colab de forma silenciosa.\n",
        "!pip install fpdf2 -q\n",
        "\n",
        "# PASSO 2: Importa as bibliotecas necessárias.\n",
        "from fpdf import FPDF\n",
        "from fpdf.enums import XPos, YPos\n",
        "import datetime\n",
        "from google.colab import files\n",
        "\n",
        "class PDFPitch(FPDF):\n",
        "    \"\"\"\n",
        "    Classe customizada para gerar um PDF de pitch profissional para o projeto AlertaVivo.\n",
        "    \"\"\"\n",
        "    # Constantes para cores e fontes\n",
        "    COLOR_PRIMARY_TEXT = (30, 30, 30)\n",
        "    COLOR_SECTION_TITLE = (0, 102, 204)\n",
        "    COLOR_BODY_TEXT = (50, 50, 50)\n",
        "    COLOR_LINE = (220, 220, 220)\n",
        "    FONT_FAMILY_PRIMARY = \"DejaVu\" # Mantemos DejaVu como a família principal\n",
        "\n",
        "    def __init__(self, *args, **kwargs):\n",
        "        \"\"\"\n",
        "        Construtor da classe. Adiciona as fontes Unicode DejaVu para\n",
        "        suportar todos os caracteres e estilos.\n",
        "        \"\"\"\n",
        "        super().__init__(*args, **kwargs)\n",
        "        # Adiciona as variações da fonte DejaVu.\n",
        "        # O fpdf2 tentará encontrar esses arquivos .ttf no sistema do Colab.\n",
        "        # O parâmetro 'uni=True' é o padrão para TTF e garante o suporte a Unicode.\n",
        "        try:\n",
        "            self.add_font(self.FONT_FAMILY_PRIMARY, \"\", \"DejaVuSans.ttf\")\n",
        "            self.add_font(self.FONT_FAMILY_PRIMARY, \"B\", \"DejaVuSans-Bold.ttf\")\n",
        "            self.add_font(self.FONT_FAMILY_PRIMARY, \"I\", \"DejaVuSans-Oblique.ttf\")\n",
        "            # Se precisar de Negrito-Itálico:\n",
        "            # self.add_font(self.FONT_FAMILY_PRIMARY, \"BI\", \"DejaVuSans-BoldOblique.ttf\")\n",
        "        except RuntimeError as e:\n",
        "            print(f\"Erro ao adicionar fontes DejaVu: {e}\")\n",
        "            print(\"Verifique se as fontes DejaVu (DejaVuSans.ttf, DejaVuSans-Bold.ttf, etc.) estão instaladas no ambiente.\")\n",
        "            print(\"No Google Colab, elas geralmente estão. Se o erro persistir, pode ser necessário instalar o pacote de fontes: !apt-get install fonts-dejavu\")\n",
        "            # Como fallback, você pode tentar usar uma fonte core, mas perderá alguns caracteres especiais.\n",
        "            # self.FONT_FAMILY_PRIMARY = \"Helvetica\" # Exemplo de fallback\n",
        "\n",
        "\n",
        "    def header(self):\n",
        "        \"\"\" Gera o cabeçalho do documento com título e subtítulo. \"\"\"\n",
        "        self.set_y(15)\n",
        "        self.set_font(self.FONT_FAMILY_PRIMARY, \"B\", 15)\n",
        "        self.set_text_color(*self.COLOR_PRIMARY_TEXT)\n",
        "        self.cell(0, 10, \"AlertaVivo – Dados que Salvam Vidas\", new_x=XPos.LMARGIN, new_y=YPos.NEXT, align=\"C\")\n",
        "\n",
        "        self.set_font(self.FONT_FAMILY_PRIMARY, \"I\", 10)\n",
        "        self.cell(0, 5, \"Pitch de Projeto\", new_x=XPos.LMARGIN, new_y=YPos.NEXT, align=\"C\")\n",
        "\n",
        "        self.ln(10)\n",
        "\n",
        "    def footer(self):\n",
        "        \"\"\" Gera o rodapé do documento com data e número de página. \"\"\"\n",
        "        self.set_y(-15)\n",
        "        self.set_font(self.FONT_FAMILY_PRIMARY, \"I\", 8)\n",
        "        self.set_text_color(128)\n",
        "\n",
        "        today = datetime.date.today().strftime(\"%d/%m/%Y\")\n",
        "        self.cell(0, 10, f\"Gerado em {today}\", align=\"L\")\n",
        "\n",
        "        self.set_x(self.w - self.r_margin - 30) # Ajusta a posição do número da página\n",
        "        self.cell(0, 10, f\"Página {self.page_no()}\", align=\"R\") # Usa 0 para largura para ir até a margem\n",
        "\n",
        "    def section_title(self, title):\n",
        "        \"\"\" Cria um título de seção formatado. \"\"\"\n",
        "        self.set_font(self.FONT_FAMILY_PRIMARY, \"B\", 13)\n",
        "        self.set_text_color(*self.COLOR_SECTION_TITLE)\n",
        "        self.cell(0, 8, title, new_x=XPos.LMARGIN, new_y=YPos.NEXT, align=\"L\")\n",
        "        self.set_text_color(*self.COLOR_BODY_TEXT)\n",
        "\n",
        "    def section_body(self, html_text):\n",
        "        \"\"\" Cria o corpo de texto de uma seção usando HTML para formatação. \"\"\"\n",
        "        self.set_font(self.FONT_FAMILY_PRIMARY, \"\", 11) # Estilo regular (vazio)\n",
        "        self.write_html(html_text)\n",
        "        self.ln(2)\n",
        "\n",
        "    def section_divider(self):\n",
        "        \"\"\" Adiciona uma linha horizontal para separar as seções. \"\"\"\n",
        "        self.ln(4)\n",
        "        self.set_draw_color(*self.COLOR_LINE)\n",
        "        self.line(self.get_x(), self.get_y(), self.w - self.r_margin, self.get_y())\n",
        "        self.ln(5)\n",
        "\n",
        "def create_pitch_pdf():\n",
        "    \"\"\"\n",
        "    Função principal que cria, salva e inicia o download do PDF do pitch.\n",
        "    \"\"\"\n",
        "    pdf = PDFPitch('P', 'mm', 'A4') # Orientação Portrait, unidade mm, formato A4\n",
        "\n",
        "    pdf.set_title(\"Pitch do Projeto AlertaVivo\")\n",
        "    pdf.set_author(\"Equipe AlertaVivo\")\n",
        "    pdf.set_creator(\"Gerador de Pitch com Python/FPDF2\") # Adicionado para metadados\n",
        "    pdf.add_page()\n",
        "\n",
        "    sections = [\n",
        "        (\"Problema\",\n",
        "         \"Vivemos em um tempo de extremos: enchentes, secas e queimadas atingem milhões de pessoas todos os anos. \"\n",
        "         \"As comunidades mais vulneráveis sofrem desproporcionalmente – e o pior: esses desastres continuam a pegar \"\n",
        "         \"a sociedade de surpresa. A crise climática já é uma realidade, mas a resposta ainda é reativa, lenta e ineficaz.\"),\n",
        "\n",
        "        (\"Solução\",\n",
        "         \"AlertaVivo é uma plataforma inteligente que usa <b>Data Science, Inteligência Artificial e IoT</b> para:<br>\"\n",
        "         \"- Prever desastres com até 48 horas de antecedência<br>\"\n",
        "         \"- Monitorar riscos ambientais em tempo real<br>\"\n",
        "         \"- Enviar alertas personalizados para comunidades vulneráveis<br>\"\n",
        "         \"- Apoiar ações rápidas e coordenadas de resposta\"),\n",
        "\n",
        "        (\"Como Funciona\",\n",
        "         \"<b>• Sensores IoT e dados de satélite</b> detectam sinais precoces<br>\"\n",
        "         \"<b>• Modelos preditivos</b> analisam padrões climáticos e ambientais<br>\"\n",
        "         \"<b>• Mapas de risco dinâmicos</b> mostram áreas mais afetadas<br>\"\n",
        "         \"<b>• Alertas multicanal</b> são enviados por WhatsApp, SMS e rádio<br>\"\n",
        "         \"<b>• App leve</b> orienta moradores sobre rotas de fuga e abrigos\"),\n",
        "\n",
        "        (\"Tecnologia\",\n",
        "         \"- IA com Machine Learning (LSTM, Random Forest, CNNs)<br>\"\n",
        "         \"- Sensoriamento remoto e dados do <i>INPE, NASA e MapBiomas</i><br>\"\n",
        "         \"- Geoprocessamento com mapas interativos (PostGIS + Leaflet)<br>\"\n",
        "         \"- Plataforma web responsiva + app leve para Android<br>\"\n",
        "         \"- Infraestrutura em nuvem (AWS ou GCP)\"),\n",
        "\n",
        "        (\"Impacto Esperado\",\n",
        "         \"• Alertas emitidos: <b>+10 mil</b> por ano<br>\"\n",
        "         \"• Comunidades atendidas: <b>500+</b><br>\"\n",
        "         \"• Redução de danos materiais: <b>até 60%</b><br>\"\n",
        "         \"• Vidas impactadas positivamente: <b>+1 milhão</b>\"),\n",
        "\n",
        "        (\"Inovação Social\",\n",
        "         \"AlertaVivo também capacita lideranças locais para atuarem como <b>agentes de resiliência</b>, promovendo \"\n",
        "         \"uma rede de resposta comunitária conectada e ativa.\"),\n",
        "\n",
        "        (\"Parcerias Estratégicas\",\n",
        "         \"- Defesa Civil e órgãos públicos<br>\"\n",
        "         \"- Universidades e centros de pesquisa<br>\"\n",
        "         \"- ONGs ambientais e sociais<br>\"\n",
        "         \"- Empresas de tecnologia e GovTechs\"),\n",
        "\n",
        "        (\"Modelo de Sustentação\",\n",
        "         \"- Contratos com prefeituras e governos estaduais<br>\"\n",
        "         \"- Acordos com seguradoras e utilities (água, energia)<br>\"\n",
        "         \"- Acesso gratuito para comunidades + versão <i>Pro</i> para gestão pública<br>\"\n",
        "         \"- Apoio via editais de inovação, BID, BNDES, ONU\"),\n",
        "\n",
        "        (\"Chamada para Ação\",\n",
        "         \"Buscamos parceiros e apoiadores para implementar pilotos em 5 regiões vulneráveis no Brasil. \"\n",
        "         \"Com dados, tecnologia e ação local, podemos salvar vidas antes que os desastres aconteçam.<br><br>\"\n",
        "         \"Entre em contato: <b><a href='mailto:parcerias@alertavivo.org'>parcerias@alertavivo.org</a></b>\")\n",
        "    ]\n",
        "\n",
        "    for i, (title, body_html) in enumerate(sections):\n",
        "        pdf.section_title(title)\n",
        "        pdf.section_body(body_html)\n",
        "        if i < len(sections) - 1: # Não adiciona divisor após a última seção\n",
        "            pdf.section_divider()\n",
        "\n",
        "    output_filename = \"AlertaVivo_Pitch_Final_Corrigido.pdf\"\n",
        "    try:\n",
        "        pdf.output(output_filename)\n",
        "        print(f\"Sucesso! PDF salvo como '{output_filename}'.\")\n",
        "        files.download(output_filename) # Inicia o download no Colab\n",
        "    except Exception as e:\n",
        "        print(f\"Erro ao salvar ou fazer download do PDF: {e}\")\n",
        "\n",
        "\n",
        "# Ponto de entrada para executar o script\n",
        "if __name__ == \"__main__\":\n",
        "    create_pitch_pdf()\n"
      ],
      "metadata": {
        "id": "G85604W3eGA2"
      },
      "execution_count": null,
      "outputs": []
    },
    {
      "cell_type": "code",
      "source": [
        "import pandas as pd\n",
        "import matplotlib.pyplot as plt\n",
        "\n",
        "print(\"Passo 1: Carregando o arquivo de dados...\")\n",
        "print(\"Procurando pelo arquivo 'asset desafio 2 - ocorrencias_sac_v2.csv'...\")\n",
        "\n",
        "try:\n",
        "    df = pd.read_csv('asset desafio 2 - ocorrencias_sac_v2.csv')\n",
        "    print(\"Arquivo 'asset desafio 2 - ocorrencias_sac_v2.csv' carregado!\")\n",
        "except FileNotFoundError:\n",
        "    print(\"ERRO: O arquivo 'asset desafio 2 - ocorrencias_sac_v2.csv' não foi encontrado.\")\n",
        "    print(\"Verifique se o arquivo está na mesma pasta onde você está rodando o código.\")\n",
        "    print(\"Não podemos continuar sem o arquivo, então o programa vai parar por aqui. :(\")\n",
        "    import sys\n",
        "    sys.exit()\n",
        "\n",
        "print(\"\\n--------------------------------------------------\")\n",
        "print(\"Dando uma olhadinha nos dados para ver como são.\")\n",
        "print(\"--------------------------------------------------\")\n",
        "\n",
        "# Mostrando as primeiras 5 linhas da tabela (DataFrame) para ter uma ideia.\n",
        "print(\"\\nMostrando as primeiras 5 linhas da tabela (df.head()):\")\n",
        "print(df.head().to_markdown(index=False, numalign=\"left\", stralign=\"left\"))\n",
        "\n",
        "# Removendo espaços em branco extras dos nomes das colunas, se houver.\n",
        "# Isso evita problemas como o \" data_ocorrencia\" ter um espaço no começo.\n",
        "df.columns = df.columns.str.strip()\n",
        "\n",
        "# Mostrando os nomes das colunas corrigidos, só para confirmar.\n",
        "print(\"\\nNomes das colunas após remover espaços em branco:\")\n",
        "print(df.columns.tolist())\n",
        "\n",
        "\n",
        "# Algumas informações gerais sobre as colunas: quantos dados tem, se tem algum vazio, e o tipo de cada dado.\n",
        "print(\"\\nInformações sobre as colunas da tabela (df.info()):\")\n",
        "df.info()\n",
        "\n",
        "# O nome da coluna de data real é 'data_ocorrencia', vimos isso no df.head()!\n",
        "print(\"\\nTransformando a coluna 'data_ocorrencia' em formato de data real...\")\n",
        "df['data_ocorrencia'] = pd.to_datetime(df['data_ocorrencia'], format='%Y-%m-%d') # Ajuste no formato da data\n",
        "print(\"Pronto! Agora a coluna 'data_ocorrencia' é uma data. Vamos ver de novo as primeiras linhas:\")\n",
        "print(df.head().to_markdown(index=False, numalign=\"left\", stralign=\"left\"))\n",
        "\n",
        "print(\"\\n--------------------------------------------------\")\n",
        "print(\"Calculando quantas ocorrências aconteceram em cada dia.\")\n",
        "print(\"--------------------------------------------------\")\n",
        "\n",
        "# Usamos .value_counts() na coluna 'data_ocorrencia' para contar quantas vezes cada data aparece.\n",
        "# Depois, .sort_index() para deixar as datas em ordem crescente, fica mais fácil de ver.\n",
        "frequencia_ocorrencias = df['data_ocorrencia'].value_counts().sort_index()\n",
        "\n",
        "print(\"\\nResultado da frequência de ocorrências por dia:\")\n",
        "print(frequencia_ocorrencias.to_markdown(numalign=\"left\", stralign=\"left\"))\n",
        "\n",
        "print(\"\\n--------------------------------------------------\")\n",
        "print(\"Histograma para visualizar a frequência!\")\n",
        "print(\"--------------------------------------------------\")\n",
        "\n",
        "ocorrencias_por_dia = frequencia_ocorrencias.values\n",
        "\n",
        "plt.figure(figsize=(12, 7))\n",
        "\n",
        "plt.hist(\n",
        "    ocorrencias_por_dia,\n",
        "    bins=range(min(ocorrencias_por_dia), max(ocorrencias_por_dia) + 2),\n",
        "    edgecolor='black',\n",
        "    alpha=0.7\n",
        ")\n",
        "\n",
        "plt.title('Distribuição de Frequência das Ocorrências do SAC por Dia')\n",
        "\n",
        "plt.xlabel('Número de Ocorrências por Dia')\n",
        "\n",
        "plt.ylabel('Frequência (Número de Dias que Tiveram Essa Quantidade de Ocorrências)')\n",
        "\n",
        "plt.xticks(range(int(min(ocorrencias_por_dia)), int(max(ocorrencias_por_dia)) + 1))\n",
        "\n",
        "plt.grid(axis='y', alpha=0.75)\n",
        "\n",
        "plt.show()\n"
      ],
      "metadata": {
        "id": "gm5N1Tg-mzh_"
      },
      "execution_count": null,
      "outputs": []
    },
    {
      "cell_type": "markdown",
      "source": [
        "# **Trabalhando com Sets no Python**"
      ],
      "metadata": {
        "id": "a_0iJT3mqcck"
      }
    },
    {
      "cell_type": "markdown",
      "source": [
        "## **Criação dos sets**"
      ],
      "metadata": {
        "id": "hwdXSll0wgSW"
      }
    },
    {
      "cell_type": "markdown",
      "source": [
        "### **Utilizando as chaves `{ }`:**\n",
        "\n",
        "\n"
      ],
      "metadata": {
        "id": "yfaf8Gn6jALR"
      }
    },
    {
      "cell_type": "code",
      "source": [
        "carros = {'Jetta Variant', 'Passat', 'Crossfox', 'Dodge Jorney'}\n",
        "\n",
        "print(carros)"
      ],
      "metadata": {
        "id": "FK3qZ08ckgXK",
        "colab": {
          "base_uri": "https://localhost:8080/"
        },
        "outputId": "e1b6b335-fe11-4124-b364-d51fcade0728"
      },
      "execution_count": null,
      "outputs": [
        {
          "output_type": "stream",
          "name": "stdout",
          "text": [
            "{'Dodge Jorney', 'Crossfox', 'Jetta Variant', 'Passat'}\n",
            "{'Dodge Jorney', 'Crossfox', 'Jetta Variant', 'Passat'}\n"
          ]
        }
      ]
    },
    {
      "cell_type": "code",
      "source": [
        "# Sets com elementos diferentes\n",
        "\n",
        "elementos_diferentes = {2017, \"Onix\", 37123.04, True}\n",
        "print(elementos_diferentes)"
      ],
      "metadata": {
        "colab": {
          "base_uri": "https://localhost:8080/"
        },
        "id": "6A1qeFDQEKuM",
        "outputId": "d90b5af6-6831-4ff5-e0bb-283cdb367d52"
      },
      "execution_count": null,
      "outputs": [
        {
          "output_type": "stream",
          "name": "stdout",
          "text": [
            "{2017, 37123.04, 'Onix', True}\n"
          ]
        }
      ]
    },
    {
      "cell_type": "code",
      "source": [
        "carros[0]"
      ],
      "metadata": {
        "colab": {
          "base_uri": "https://localhost:8080/",
          "height": 166
        },
        "id": "LSffwZiinhIP",
        "outputId": "5fc8617b-68eb-4643-cac3-46bd9c09730f"
      },
      "execution_count": null,
      "outputs": [
        {
          "output_type": "error",
          "ename": "TypeError",
          "evalue": "ignored",
          "traceback": [
            "\u001b[0;31m---------------------------------------------------------------------------\u001b[0m",
            "\u001b[0;31mTypeError\u001b[0m                                 Traceback (most recent call last)",
            "\u001b[0;32m<ipython-input-4-196d22ee0193>\u001b[0m in \u001b[0;36m<module>\u001b[0;34m\u001b[0m\n\u001b[0;32m----> 1\u001b[0;31m \u001b[0mcarros\u001b[0m\u001b[0;34m[\u001b[0m\u001b[0;36m0\u001b[0m\u001b[0;34m]\u001b[0m\u001b[0;34m\u001b[0m\u001b[0;34m\u001b[0m\u001b[0m\n\u001b[0m",
            "\u001b[0;31mTypeError\u001b[0m: 'set' object is not subscriptable"
          ]
        }
      ]
    },
    {
      "cell_type": "code",
      "source": [
        "for i in carros:\n",
        "  print(i)"
      ],
      "metadata": {
        "id": "dcccTfDPa_bH",
        "colab": {
          "base_uri": "https://localhost:8080/"
        },
        "outputId": "032807a3-10d9-40c7-bf8d-d4c7e66888ec"
      },
      "execution_count": null,
      "outputs": [
        {
          "output_type": "stream",
          "name": "stdout",
          "text": [
            "Dodge Jorney\n",
            "Crossfox\n",
            "Jetta Variant\n",
            "Passat\n"
          ]
        }
      ]
    },
    {
      "cell_type": "markdown",
      "source": [
        "### **Utilizando listas e a função `set()`**"
      ],
      "metadata": {
        "id": "A7YsVhE6jHxL"
      }
    },
    {
      "cell_type": "code",
      "source": [
        "lista_escolas = ['Data Science', 'Programação', 'Front-end',\n",
        "                 'Mobile', 'DevOps', 'UX & Design', 'Inovação e Gestão']"
      ],
      "metadata": {
        "id": "SPF6Lemvr155"
      },
      "execution_count": null,
      "outputs": []
    },
    {
      "cell_type": "code",
      "source": [
        "escolas_set = set(lista_escolas)\n",
        "\n",
        "print(escolas_set)"
      ],
      "metadata": {
        "colab": {
          "base_uri": "https://localhost:8080/"
        },
        "id": "z4XSX7EUQZTk",
        "outputId": "32728ba8-0e33-4310-d0bc-4a5e1c7f6f55"
      },
      "execution_count": null,
      "outputs": [
        {
          "output_type": "stream",
          "name": "stdout",
          "text": [
            "{'UX & Design', 'Mobile', 'Programação', 'Data Science', 'Front-end', 'Inovação e Gestão', 'DevOps'}\n"
          ]
        }
      ]
    },
    {
      "cell_type": "markdown",
      "source": [
        "### **Trabalhando com elementos repetidos:**"
      ],
      "metadata": {
        "id": "L65NhBb1jawr"
      }
    },
    {
      "cell_type": "code",
      "source": [
        "lista_carros = ['Jetta Variant', 'Passat', 'Crossfox', 'Passat', 'Crossfox',\n",
        "                'Jetta Variant', 'Dodge Journey']\n",
        "nova_lista = set(lista_carros)"
      ],
      "metadata": {
        "id": "VzHw4PPKr1-O"
      },
      "execution_count": null,
      "outputs": []
    },
    {
      "cell_type": "code",
      "source": [
        "# Utilizando a função len() para verificar a quantidade de elementos\n",
        "print(len(lista_carros))"
      ],
      "metadata": {
        "colab": {
          "base_uri": "https://localhost:8080/"
        },
        "id": "LZAOxogMd8qW",
        "outputId": "0ce9f7b1-b05e-4f93-816f-66bc250a752e"
      },
      "execution_count": null,
      "outputs": [
        {
          "output_type": "stream",
          "name": "stdout",
          "text": [
            "7\n"
          ]
        }
      ]
    },
    {
      "cell_type": "code",
      "source": [
        "print(nova_lista)"
      ],
      "metadata": {
        "colab": {
          "base_uri": "https://localhost:8080/"
        },
        "id": "rGMVqeWhd9YO",
        "outputId": "62b896da-6f46-413f-b824-259f9eb9a838"
      },
      "execution_count": null,
      "outputs": [
        {
          "output_type": "stream",
          "name": "stdout",
          "text": [
            "{'Crossfox', 'Dodge Journey', 'Jetta Variant', 'Passat'}\n"
          ]
        }
      ]
    },
    {
      "cell_type": "code",
      "source": [
        "len(nova_lista)"
      ],
      "metadata": {
        "colab": {
          "base_uri": "https://localhost:8080/"
        },
        "id": "rXUxHPawWq8x",
        "outputId": "f3a43e8b-26e3-4707-cd8d-d92327bcc116"
      },
      "execution_count": null,
      "outputs": [
        {
          "output_type": "execute_result",
          "data": {
            "text/plain": [
              "4"
            ]
          },
          "metadata": {},
          "execution_count": 11
        }
      ]
    },
    {
      "cell_type": "markdown",
      "source": [
        "## **Operações com Sets**\n"
      ],
      "metadata": {
        "id": "U8Ur2s1KQlgv"
      }
    },
    {
      "cell_type": "markdown",
      "source": [
        "Para esse exercício, vamos precisar criar conjuntos com os **acessórios** de alguns modelos de carros, são eles: **Passat**, **Crossfox** e **Jetta Variant**."
      ],
      "metadata": {
        "id": "Jcko59YgXiT4"
      }
    },
    {
      "cell_type": "code",
      "source": [
        "acessorios_passat = {'Rodas de Liga', 'Travas Elétricas', 'Piloto Automático',\n",
        "                     'Central Multimídia'}\n",
        "print(acessorios_passat)"
      ],
      "metadata": {
        "colab": {
          "base_uri": "https://localhost:8080/"
        },
        "id": "zA95t7-YXoE4",
        "outputId": "59bd1b5f-4016-408b-c915-9c782cbeaf6a"
      },
      "execution_count": null,
      "outputs": [
        {
          "output_type": "stream",
          "name": "stdout",
          "text": [
            "{'Piloto Automático', 'Travas Elétricas', 'Rodas de Liga', 'Central Multimídia'}\n"
          ]
        }
      ]
    },
    {
      "cell_type": "code",
      "source": [
        "acessorios_crossfox = {'Piloto Automático', 'Teto Panorâmico', '4 X 4',\n",
        "                       'Central Multimídia'}\n",
        "print(acessorios_crossfox)"
      ],
      "metadata": {
        "colab": {
          "base_uri": "https://localhost:8080/"
        },
        "id": "lfgMiNEyXoE5",
        "outputId": "40b075b5-2a00-4d09-d004-99c531c7ee46"
      },
      "execution_count": null,
      "outputs": [
        {
          "output_type": "stream",
          "name": "stdout",
          "text": [
            "{'4 X 4', 'Piloto Automático', 'Central Multimídia', 'Teto Panorâmico'}\n"
          ]
        }
      ]
    },
    {
      "cell_type": "code",
      "source": [
        "acessorios_jetta = {'Controle de Estabilidade', 'Câmbio Automático', 'Travas Elétricas',\n",
        "                    'Rodas de Liga'}\n",
        "print(acessorios_jetta)"
      ],
      "metadata": {
        "colab": {
          "base_uri": "https://localhost:8080/"
        },
        "id": "2dsJa9sAXoE5",
        "outputId": "fcc4ece7-ab5d-48a1-9c5e-09942060aa98"
      },
      "execution_count": null,
      "outputs": [
        {
          "output_type": "stream",
          "name": "stdout",
          "text": [
            "{'Controle de Estabilidade', 'Câmbio Automático', 'Travas Elétricas', 'Rodas de Liga'}\n"
          ]
        }
      ]
    },
    {
      "cell_type": "markdown",
      "source": [
        "### **Disjunção**"
      ],
      "metadata": {
        "id": "Pp7URtpTQnXn"
      }
    },
    {
      "cell_type": "markdown",
      "source": [
        "<img src='https://i.imgur.com/o2wsgPo.png' width = 50%>"
      ],
      "metadata": {
        "id": "IRmgINkLWsjs"
      }
    },
    {
      "cell_type": "code",
      "source": [
        "set.isdisjoint(acessorios_passat, acessorios_crossfox)"
      ],
      "metadata": {
        "colab": {
          "base_uri": "https://localhost:8080/"
        },
        "id": "n3GfcrMHW4nu",
        "outputId": "5ef94e0c-0e81-42e0-d41b-9e76ac6dd48b"
      },
      "execution_count": null,
      "outputs": [
        {
          "output_type": "execute_result",
          "data": {
            "text/plain": [
              "False"
            ]
          },
          "metadata": {},
          "execution_count": 15
        }
      ]
    },
    {
      "cell_type": "markdown",
      "source": [
        "### **Interseção**"
      ],
      "metadata": {
        "id": "0YYUbNDFWpvB"
      }
    },
    {
      "cell_type": "markdown",
      "source": [
        "<img src='https://i.imgur.com/6W7bxU1.png' width = 50%>"
      ],
      "metadata": {
        "id": "0OPz9M8vW-BZ"
      }
    },
    {
      "cell_type": "code",
      "source": [
        "acessorios_passat & acessorios_crossfox"
      ],
      "metadata": {
        "colab": {
          "base_uri": "https://localhost:8080/"
        },
        "id": "7Xg8Tyb3XIbs",
        "outputId": "5f70469b-7e0b-4b55-b51b-099badfacd43"
      },
      "execution_count": null,
      "outputs": [
        {
          "output_type": "execute_result",
          "data": {
            "text/plain": [
              "{'Central Multimídia', 'Piloto Automático'}"
            ]
          },
          "metadata": {},
          "execution_count": 16
        }
      ]
    },
    {
      "cell_type": "code",
      "source": [
        "acessorios_passat & acessorios_jetta"
      ],
      "metadata": {
        "colab": {
          "base_uri": "https://localhost:8080/"
        },
        "id": "xQ6X-XbsYz_T",
        "outputId": "66e12a51-6e08-4537-8229-690b4051be68"
      },
      "execution_count": null,
      "outputs": [
        {
          "output_type": "execute_result",
          "data": {
            "text/plain": [
              "{'Rodas de Liga', 'Travas Elétricas'}"
            ]
          },
          "metadata": {},
          "execution_count": 17
        }
      ]
    },
    {
      "cell_type": "code",
      "source": [
        "set.intersection(acessorios_passat, acessorios_crossfox, acessorios_jetta)"
      ],
      "metadata": {
        "colab": {
          "base_uri": "https://localhost:8080/"
        },
        "id": "OHa9LqNdY2ht",
        "outputId": "18ae812a-0487-4c86-ab3d-33a9b2322009"
      },
      "execution_count": null,
      "outputs": [
        {
          "output_type": "execute_result",
          "data": {
            "text/plain": [
              "set()"
            ]
          },
          "metadata": {},
          "execution_count": 18
        }
      ]
    },
    {
      "cell_type": "markdown",
      "source": [
        "### **União**"
      ],
      "metadata": {
        "id": "GzUoqpFVZGIu"
      }
    },
    {
      "cell_type": "markdown",
      "source": [
        "<img src='https://i.imgur.com/C3MrKmK.png' width = 50%>"
      ],
      "metadata": {
        "id": "Me_90Pk7ZG9d"
      }
    },
    {
      "cell_type": "code",
      "source": [
        "acessorios_passat | acessorios_crossfox"
      ],
      "metadata": {
        "colab": {
          "base_uri": "https://localhost:8080/"
        },
        "id": "kYo9i7g5WrX_",
        "outputId": "5d2b285d-d4f6-4ace-a754-1c0e99bcfb67"
      },
      "execution_count": null,
      "outputs": [
        {
          "output_type": "execute_result",
          "data": {
            "text/plain": [
              "{'4 X 4',\n",
              " 'Central Multimídia',\n",
              " 'Piloto Automático',\n",
              " 'Rodas de Liga',\n",
              " 'Teto Panorâmico',\n",
              " 'Travas Elétricas'}"
            ]
          },
          "metadata": {},
          "execution_count": 19
        }
      ]
    },
    {
      "cell_type": "code",
      "source": [
        "set.union(acessorios_passat, acessorios_crossfox, acessorios_jetta, {'Teto Solar'})"
      ],
      "metadata": {
        "colab": {
          "base_uri": "https://localhost:8080/"
        },
        "id": "h7RZmv19auKU",
        "outputId": "27286b33-f210-44b8-abb6-570a477347f8"
      },
      "execution_count": null,
      "outputs": [
        {
          "output_type": "execute_result",
          "data": {
            "text/plain": [
              "{'4 X 4',\n",
              " 'Central Multimídia',\n",
              " 'Controle de Estabilidade',\n",
              " 'Câmbio Automático',\n",
              " 'Piloto Automático',\n",
              " 'Rodas de Liga',\n",
              " 'Teto Panorâmico',\n",
              " 'Teto Solar',\n",
              " 'Travas Elétricas'}"
            ]
          },
          "metadata": {},
          "execution_count": 20
        }
      ]
    },
    {
      "cell_type": "markdown",
      "source": [
        "## **Perfomance**"
      ],
      "metadata": {
        "id": "wMelozu-ijag"
      }
    },
    {
      "cell_type": "code",
      "source": [
        "carros"
      ],
      "metadata": {
        "colab": {
          "base_uri": "https://localhost:8080/"
        },
        "id": "EhyRdV4CLvVX",
        "outputId": "fefef708-76fd-4c26-f167-5b68e328368d"
      },
      "execution_count": null,
      "outputs": [
        {
          "output_type": "execute_result",
          "data": {
            "text/plain": [
              "{'Crossfox', 'Dodge Jorney', 'Jetta Variant', 'Passat'}"
            ]
          },
          "metadata": {},
          "execution_count": 21
        }
      ]
    },
    {
      "cell_type": "code",
      "source": [
        "'Crossfox' in carros"
      ],
      "metadata": {
        "colab": {
          "base_uri": "https://localhost:8080/"
        },
        "id": "PnRZ7Dp0Lwrt",
        "outputId": "9289fce6-5c30-4215-fbdf-7b388f90e98f"
      },
      "execution_count": null,
      "outputs": [
        {
          "output_type": "execute_result",
          "data": {
            "text/plain": [
              "True"
            ]
          },
          "metadata": {},
          "execution_count": 22
        }
      ]
    },
    {
      "cell_type": "markdown",
      "source": [
        "### **Perfomance com vários elementos**"
      ],
      "metadata": {
        "id": "xLpWitV6L0At"
      }
    },
    {
      "cell_type": "code",
      "source": [
        "elementos_set = set(range(10000))\n",
        "elementos_list = list(range(10000))\n",
        "elementos_tuple = tuple(range(10000))"
      ],
      "metadata": {
        "id": "-OErengzhloO"
      },
      "execution_count": null,
      "outputs": []
    },
    {
      "cell_type": "code",
      "source": [
        "def verificar_elemento_in(elemento_iteravel):\n",
        "\n",
        "  for i in range(10000):\n",
        "    if i in elemento_iteravel:\n",
        "      pass"
      ],
      "metadata": {
        "id": "r5v0f69hhQpJ"
      },
      "execution_count": null,
      "outputs": []
    },
    {
      "cell_type": "code",
      "source": [
        "print(\"Tempo de execução set: \")\n",
        "%time verificar_elemento_in(elementos_set)\n",
        "print(\"=\"*30)\n",
        "\n",
        "print(\"Tempo de execução lista: \")\n",
        "%time verificar_elemento_in(elementos_list)\n",
        "print(\"=\"*30)\n",
        "\n",
        "print(\"Tempo de execução tuplas: \")\n",
        "%time verificar_elemento_in(elementos_tuple)\n",
        "print(\"=\"*30)"
      ],
      "metadata": {
        "colab": {
          "base_uri": "https://localhost:8080/"
        },
        "id": "Ny1_EsyZJxea",
        "outputId": "47b4804d-b711-4476-e686-2e66e9783ecd"
      },
      "execution_count": null,
      "outputs": [
        {
          "output_type": "stream",
          "name": "stdout",
          "text": [
            "Tempo de execução set: \n",
            "CPU times: user 1.31 ms, sys: 30 µs, total: 1.34 ms\n",
            "Wall time: 2.4 ms\n",
            "==============================\n",
            "Tempo de execução lista: \n",
            "CPU times: user 601 ms, sys: 3.42 ms, total: 605 ms\n",
            "Wall time: 612 ms\n",
            "==============================\n",
            "Tempo de execução tuplas: \n",
            "CPU times: user 621 ms, sys: 1.33 ms, total: 623 ms\n",
            "Wall time: 626 ms\n",
            "==============================\n"
          ]
        }
      ]
    }
  ]
}